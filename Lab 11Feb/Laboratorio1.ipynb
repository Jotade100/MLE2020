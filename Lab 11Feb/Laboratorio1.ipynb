{
 "cells": [
  {
   "cell_type": "markdown",
   "metadata": {},
   "source": [
    "# Laboratorio 1\n",
    "Implementación de la regresión lineal y de Cross-Validation"
   ]
  },
  {
   "cell_type": "markdown",
   "metadata": {},
   "source": [
    "## Importación de librerías a utilizar"
   ]
  },
  {
   "cell_type": "code",
   "execution_count": 1,
   "metadata": {},
   "outputs": [],
   "source": [
    "import pandas as pd\n",
    "import numpy as np\n",
    "import seaborn as sns # Es más fácil graficar cosas con seaborn\n",
    "import random as rnd\n",
    "import matplotlib.pyplot as plt\n",
    "from sklearn.model_selection import train_test_split\n",
    "import math "
   ]
  },
  {
   "cell_type": "markdown",
   "metadata": {},
   "source": [
    "## Lectura del dataset\n",
    "Se procede a leer el dataset y luego a explorarlo visualmente."
   ]
  },
  {
   "cell_type": "code",
   "execution_count": 2,
   "metadata": {},
   "outputs": [
    {
     "data": {
      "text/html": [
       "<div>\n",
       "<style scoped>\n",
       "    .dataframe tbody tr th:only-of-type {\n",
       "        vertical-align: middle;\n",
       "    }\n",
       "\n",
       "    .dataframe tbody tr th {\n",
       "        vertical-align: top;\n",
       "    }\n",
       "\n",
       "    .dataframe thead th {\n",
       "        text-align: right;\n",
       "    }\n",
       "</style>\n",
       "<table border=\"1\" class=\"dataframe\">\n",
       "  <thead>\n",
       "    <tr style=\"text-align: right;\">\n",
       "      <th></th>\n",
       "      <th>Commodity Name</th>\n",
       "      <th>City Name</th>\n",
       "      <th>Type</th>\n",
       "      <th>Package</th>\n",
       "      <th>Variety</th>\n",
       "      <th>Sub Variety</th>\n",
       "      <th>Grade</th>\n",
       "      <th>Date</th>\n",
       "      <th>Low Price</th>\n",
       "      <th>High Price</th>\n",
       "      <th>...</th>\n",
       "      <th>Color</th>\n",
       "      <th>Environment</th>\n",
       "      <th>Unit of Sale</th>\n",
       "      <th>Quality</th>\n",
       "      <th>Condition</th>\n",
       "      <th>Appearance</th>\n",
       "      <th>Storage</th>\n",
       "      <th>Crop</th>\n",
       "      <th>Repack</th>\n",
       "      <th>Trans Mode</th>\n",
       "    </tr>\n",
       "  </thead>\n",
       "  <tbody>\n",
       "    <tr>\n",
       "      <th>0</th>\n",
       "      <td>PUMPKINS</td>\n",
       "      <td>LOS ANGELES</td>\n",
       "      <td>NaN</td>\n",
       "      <td>24 inch bins</td>\n",
       "      <td>HOWDEN TYPE</td>\n",
       "      <td>NaN</td>\n",
       "      <td>NaN</td>\n",
       "      <td>09/24/2016</td>\n",
       "      <td>120.0</td>\n",
       "      <td>130.0</td>\n",
       "      <td>...</td>\n",
       "      <td>NaN</td>\n",
       "      <td>NaN</td>\n",
       "      <td>PER BIN</td>\n",
       "      <td>NaN</td>\n",
       "      <td>NaN</td>\n",
       "      <td>NaN</td>\n",
       "      <td>NaN</td>\n",
       "      <td>NaN</td>\n",
       "      <td>N</td>\n",
       "      <td>NaN</td>\n",
       "    </tr>\n",
       "    <tr>\n",
       "      <th>1</th>\n",
       "      <td>PUMPKINS</td>\n",
       "      <td>LOS ANGELES</td>\n",
       "      <td>NaN</td>\n",
       "      <td>24 inch bins</td>\n",
       "      <td>HOWDEN TYPE</td>\n",
       "      <td>NaN</td>\n",
       "      <td>NaN</td>\n",
       "      <td>09/24/2016</td>\n",
       "      <td>120.0</td>\n",
       "      <td>130.0</td>\n",
       "      <td>...</td>\n",
       "      <td>NaN</td>\n",
       "      <td>NaN</td>\n",
       "      <td>PER BIN</td>\n",
       "      <td>NaN</td>\n",
       "      <td>NaN</td>\n",
       "      <td>NaN</td>\n",
       "      <td>NaN</td>\n",
       "      <td>NaN</td>\n",
       "      <td>N</td>\n",
       "      <td>NaN</td>\n",
       "    </tr>\n",
       "    <tr>\n",
       "      <th>2</th>\n",
       "      <td>PUMPKINS</td>\n",
       "      <td>LOS ANGELES</td>\n",
       "      <td>NaN</td>\n",
       "      <td>24 inch bins</td>\n",
       "      <td>HOWDEN TYPE</td>\n",
       "      <td>NaN</td>\n",
       "      <td>NaN</td>\n",
       "      <td>10/01/2016</td>\n",
       "      <td>120.0</td>\n",
       "      <td>130.0</td>\n",
       "      <td>...</td>\n",
       "      <td>NaN</td>\n",
       "      <td>NaN</td>\n",
       "      <td>PER BIN</td>\n",
       "      <td>NaN</td>\n",
       "      <td>NaN</td>\n",
       "      <td>NaN</td>\n",
       "      <td>NaN</td>\n",
       "      <td>NaN</td>\n",
       "      <td>N</td>\n",
       "      <td>NaN</td>\n",
       "    </tr>\n",
       "    <tr>\n",
       "      <th>3</th>\n",
       "      <td>PUMPKINS</td>\n",
       "      <td>LOS ANGELES</td>\n",
       "      <td>NaN</td>\n",
       "      <td>24 inch bins</td>\n",
       "      <td>HOWDEN TYPE</td>\n",
       "      <td>NaN</td>\n",
       "      <td>NaN</td>\n",
       "      <td>10/01/2016</td>\n",
       "      <td>120.0</td>\n",
       "      <td>130.0</td>\n",
       "      <td>...</td>\n",
       "      <td>NaN</td>\n",
       "      <td>NaN</td>\n",
       "      <td>PER BIN</td>\n",
       "      <td>NaN</td>\n",
       "      <td>NaN</td>\n",
       "      <td>NaN</td>\n",
       "      <td>NaN</td>\n",
       "      <td>NaN</td>\n",
       "      <td>N</td>\n",
       "      <td>NaN</td>\n",
       "    </tr>\n",
       "    <tr>\n",
       "      <th>4</th>\n",
       "      <td>PUMPKINS</td>\n",
       "      <td>LOS ANGELES</td>\n",
       "      <td>NaN</td>\n",
       "      <td>24 inch bins</td>\n",
       "      <td>HOWDEN TYPE</td>\n",
       "      <td>NaN</td>\n",
       "      <td>NaN</td>\n",
       "      <td>10/08/2016</td>\n",
       "      <td>120.0</td>\n",
       "      <td>130.0</td>\n",
       "      <td>...</td>\n",
       "      <td>NaN</td>\n",
       "      <td>NaN</td>\n",
       "      <td>PER BIN</td>\n",
       "      <td>NaN</td>\n",
       "      <td>NaN</td>\n",
       "      <td>NaN</td>\n",
       "      <td>NaN</td>\n",
       "      <td>NaN</td>\n",
       "      <td>N</td>\n",
       "      <td>NaN</td>\n",
       "    </tr>\n",
       "  </tbody>\n",
       "</table>\n",
       "<p>5 rows × 25 columns</p>\n",
       "</div>"
      ],
      "text/plain": [
       "  Commodity Name    City Name  Type       Package      Variety Sub Variety  \\\n",
       "0       PUMPKINS  LOS ANGELES   NaN  24 inch bins  HOWDEN TYPE         NaN   \n",
       "1       PUMPKINS  LOS ANGELES   NaN  24 inch bins  HOWDEN TYPE         NaN   \n",
       "2       PUMPKINS  LOS ANGELES   NaN  24 inch bins  HOWDEN TYPE         NaN   \n",
       "3       PUMPKINS  LOS ANGELES   NaN  24 inch bins  HOWDEN TYPE         NaN   \n",
       "4       PUMPKINS  LOS ANGELES   NaN  24 inch bins  HOWDEN TYPE         NaN   \n",
       "\n",
       "   Grade        Date  Low Price  High Price  ...  Color  Environment  \\\n",
       "0    NaN  09/24/2016      120.0       130.0  ...    NaN          NaN   \n",
       "1    NaN  09/24/2016      120.0       130.0  ...    NaN          NaN   \n",
       "2    NaN  10/01/2016      120.0       130.0  ...    NaN          NaN   \n",
       "3    NaN  10/01/2016      120.0       130.0  ...    NaN          NaN   \n",
       "4    NaN  10/08/2016      120.0       130.0  ...    NaN          NaN   \n",
       "\n",
       "  Unit of Sale Quality Condition Appearance  Storage Crop  Repack  Trans Mode  \n",
       "0      PER BIN     NaN       NaN        NaN      NaN  NaN       N         NaN  \n",
       "1      PER BIN     NaN       NaN        NaN      NaN  NaN       N         NaN  \n",
       "2      PER BIN     NaN       NaN        NaN      NaN  NaN       N         NaN  \n",
       "3      PER BIN     NaN       NaN        NaN      NaN  NaN       N         NaN  \n",
       "4      PER BIN     NaN       NaN        NaN      NaN  NaN       N         NaN  \n",
       "\n",
       "[5 rows x 25 columns]"
      ]
     },
     "execution_count": 2,
     "metadata": {},
     "output_type": "execute_result"
    }
   ],
   "source": [
    "los_angeles = pd.read_csv('los-angeles_9-24-2016_9-30-2017.csv')\n",
    "new_york = pd.read_csv('new-york_9-24-2016_9-30-2017.csv')\n",
    "dataset = pd.concat([los_angeles, new_york])\n",
    "dataset.head()"
   ]
  },
  {
   "cell_type": "markdown",
   "metadata": {},
   "source": [
    "Ya que se solicita únicamente dos columnas del _dataset_, se procederá a seleccionarlas y evaluarlas."
   ]
  },
  {
   "cell_type": "markdown",
   "metadata": {},
   "source": [
    "## Tratamiento de nulos\n",
    "Obtener la proporción de nulos dentro del dataset, primero se verá qué columas tienen nulos"
   ]
  },
  {
   "cell_type": "code",
   "execution_count": 3,
   "metadata": {},
   "outputs": [
    {
     "data": {
      "text/plain": [
       "Commodity Name       0\n",
       "City Name            0\n",
       "Type               174\n",
       "Package              0\n",
       "Variety              0\n",
       "Sub Variety        150\n",
       "Grade              174\n",
       "Date                 0\n",
       "Low Price            0\n",
       "High Price           0\n",
       "Mostly Low           0\n",
       "Mostly High          0\n",
       "Origin               0\n",
       "Origin District    128\n",
       "Item Size           24\n",
       "Color              143\n",
       "Environment        174\n",
       "Unit of Sale        96\n",
       "Quality            174\n",
       "Condition          174\n",
       "Appearance         174\n",
       "Storage            174\n",
       "Crop               174\n",
       "Repack               0\n",
       "Trans Mode         174\n",
       "dtype: int64"
      ]
     },
     "execution_count": 3,
     "metadata": {},
     "output_type": "execute_result"
    }
   ],
   "source": [
    "# Ver qué columnas tienen nulos y cúantos son\n",
    "dataset.isna().sum()"
   ]
  },
  {
   "cell_type": "code",
   "execution_count": 4,
   "metadata": {},
   "outputs": [
    {
     "name": "stdout",
     "output_type": "stream",
     "text": [
      "La proporción de valores nulos es 0.13793103448275862\n"
     ]
    }
   ],
   "source": [
    "print(\"La proporción de valores nulos es {}\".format(len(dataset[(dataset['Item Size'].isnull())])/len(dataset)))"
   ]
  },
  {
   "cell_type": "markdown",
   "metadata": {},
   "source": [
    "Ya que la proporción de valores nulos es muy poco considerable, se decidirá eliminar las columnas que tengan nulos para evitar que contaminen en modelo. Además por desconocimiento de los datos, no se sabría si se imputa un valor."
   ]
  },
  {
   "cell_type": "code",
   "execution_count": 5,
   "metadata": {},
   "outputs": [
    {
     "name": "stdout",
     "output_type": "stream",
     "text": [
      "Ahora, luego de eliminar la proporción de valores nulos es 0.0\n"
     ]
    }
   ],
   "source": [
    "dataset.drop(dataset[(dataset['Item Size'].isnull())].index, inplace=True)\n",
    "print(\"Ahora, luego de eliminar la proporción de valores nulos es {}\".format(len(dataset[(dataset['Item Size'].isnull())])/len(dataset)))"
   ]
  },
  {
   "cell_type": "code",
   "execution_count": 7,
   "metadata": {},
   "outputs": [
    {
     "data": {
      "text/html": [
       "<div>\n",
       "<style scoped>\n",
       "    .dataframe tbody tr th:only-of-type {\n",
       "        vertical-align: middle;\n",
       "    }\n",
       "\n",
       "    .dataframe tbody tr th {\n",
       "        vertical-align: top;\n",
       "    }\n",
       "\n",
       "    .dataframe thead th {\n",
       "        text-align: right;\n",
       "    }\n",
       "</style>\n",
       "<table border=\"1\" class=\"dataframe\">\n",
       "  <thead>\n",
       "    <tr style=\"text-align: right;\">\n",
       "      <th></th>\n",
       "      <th>High Price</th>\n",
       "      <th>Item Size</th>\n",
       "      <th>Package</th>\n",
       "      <th>Unit of Sale</th>\n",
       "    </tr>\n",
       "  </thead>\n",
       "  <tbody>\n",
       "    <tr>\n",
       "      <th>0</th>\n",
       "      <td>130.0</td>\n",
       "      <td>lge</td>\n",
       "      <td>24 inch bins</td>\n",
       "      <td>PER BIN</td>\n",
       "    </tr>\n",
       "    <tr>\n",
       "      <th>1</th>\n",
       "      <td>130.0</td>\n",
       "      <td>med</td>\n",
       "      <td>24 inch bins</td>\n",
       "      <td>PER BIN</td>\n",
       "    </tr>\n",
       "    <tr>\n",
       "      <th>2</th>\n",
       "      <td>130.0</td>\n",
       "      <td>lge</td>\n",
       "      <td>24 inch bins</td>\n",
       "      <td>PER BIN</td>\n",
       "    </tr>\n",
       "    <tr>\n",
       "      <th>3</th>\n",
       "      <td>130.0</td>\n",
       "      <td>med</td>\n",
       "      <td>24 inch bins</td>\n",
       "      <td>PER BIN</td>\n",
       "    </tr>\n",
       "    <tr>\n",
       "      <th>4</th>\n",
       "      <td>130.0</td>\n",
       "      <td>lge</td>\n",
       "      <td>24 inch bins</td>\n",
       "      <td>PER BIN</td>\n",
       "    </tr>\n",
       "  </tbody>\n",
       "</table>\n",
       "</div>"
      ],
      "text/plain": [
       "   High Price Item Size       Package Unit of Sale\n",
       "0       130.0       lge  24 inch bins      PER BIN\n",
       "1       130.0       med  24 inch bins      PER BIN\n",
       "2       130.0       lge  24 inch bins      PER BIN\n",
       "3       130.0       med  24 inch bins      PER BIN\n",
       "4       130.0       lge  24 inch bins      PER BIN"
      ]
     },
     "execution_count": 7,
     "metadata": {},
     "output_type": "execute_result"
    }
   ],
   "source": [
    "# Hacemos una lista de las columnas que deseamos mantener\n",
    "columnas_deseadas = ['High Price', 'Item Size', 'Package', 'Unit of Sale'] # Guardé dos más por estandarización\n",
    "dataset = dataset[columnas_deseadas]\n",
    "dataset.head()"
   ]
  },
  {
   "cell_type": "markdown",
   "metadata": {},
   "source": [
    "Haciendo una gráfica que nos muestre categorías, primero usaremos un Factor Plot"
   ]
  },
  {
   "cell_type": "code",
   "execution_count": 8,
   "metadata": {},
   "outputs": [
    {
     "name": "stderr",
     "output_type": "stream",
     "text": [
      "c:\\users\\juan diego\\appdata\\local\\programs\\python\\python37-32\\lib\\site-packages\\seaborn\\categorical.py:3669: UserWarning: The `factorplot` function has been renamed to `catplot`. The original name will be removed in a future release. Please update your code. Note that the default `kind` in `factorplot` (`'point'`) has changed `'strip'` in `catplot`.\n",
      "  warnings.warn(msg)\n"
     ]
    },
    {
     "data": {
      "text/plain": [
       "<seaborn.axisgrid.FacetGrid at 0x5cc8850>"
      ]
     },
     "execution_count": 8,
     "metadata": {},
     "output_type": "execute_result"
    },
    {
     "data": {
      "image/png": "[encoded data removed]",
      "text/plain": [
       "<Figure size 360x360 with 1 Axes>"
      ]
     },
     "metadata": {
      "needs_background": "light"
     },
     "output_type": "display_data"
    }
   ],
   "source": [
    "# Factor Plot\n",
    "g = sns.factorplot(x='Item Size', \n",
    "                   y='High Price', \n",
    "                   data=dataset, \n",
    "                   kind='swarm')\n",
    " \n",
    "# Rotación de la gráfica para fácil visualización\n",
    "g.set_xticklabels(rotation=0)"
   ]
  },
  {
   "cell_type": "markdown",
   "metadata": {},
   "source": [
    "#### Ver por qué los medianos están tan bajos\n",
    "Se va a consultar el dataset para ver qué características presentan los datos con precio bajo y tamaño mediano"
   ]
  },
  {
   "cell_type": "code",
   "execution_count": 9,
   "metadata": {},
   "outputs": [
    {
     "data": {
      "text/html": [
       "<div>\n",
       "<style scoped>\n",
       "    .dataframe tbody tr th:only-of-type {\n",
       "        vertical-align: middle;\n",
       "    }\n",
       "\n",
       "    .dataframe tbody tr th {\n",
       "        vertical-align: top;\n",
       "    }\n",
       "\n",
       "    .dataframe thead th {\n",
       "        text-align: right;\n",
       "    }\n",
       "</style>\n",
       "<table border=\"1\" class=\"dataframe\">\n",
       "  <thead>\n",
       "    <tr style=\"text-align: right;\">\n",
       "      <th></th>\n",
       "      <th>High Price</th>\n",
       "      <th>Item Size</th>\n",
       "      <th>Package</th>\n",
       "      <th>Unit of Sale</th>\n",
       "    </tr>\n",
       "  </thead>\n",
       "  <tbody>\n",
       "    <tr>\n",
       "      <th>21</th>\n",
       "      <td>0.5</td>\n",
       "      <td>med</td>\n",
       "      <td>36 inch bins</td>\n",
       "      <td>PER LB</td>\n",
       "    </tr>\n",
       "    <tr>\n",
       "      <th>22</th>\n",
       "      <td>0.5</td>\n",
       "      <td>med</td>\n",
       "      <td>36 inch bins</td>\n",
       "      <td>PER LB</td>\n",
       "    </tr>\n",
       "    <tr>\n",
       "      <th>23</th>\n",
       "      <td>0.5</td>\n",
       "      <td>med</td>\n",
       "      <td>36 inch bins</td>\n",
       "      <td>PER LB</td>\n",
       "    </tr>\n",
       "    <tr>\n",
       "      <th>25</th>\n",
       "      <td>0.5</td>\n",
       "      <td>med</td>\n",
       "      <td>36 inch bins</td>\n",
       "      <td>PER LB</td>\n",
       "    </tr>\n",
       "    <tr>\n",
       "      <th>41</th>\n",
       "      <td>18.0</td>\n",
       "      <td>med</td>\n",
       "      <td>1 1/9 bushel cartons</td>\n",
       "      <td>NaN</td>\n",
       "    </tr>\n",
       "    <tr>\n",
       "      <th>99</th>\n",
       "      <td>18.0</td>\n",
       "      <td>med</td>\n",
       "      <td>1 1/9 bushel crates</td>\n",
       "      <td>NaN</td>\n",
       "    </tr>\n",
       "    <tr>\n",
       "      <th>108</th>\n",
       "      <td>18.0</td>\n",
       "      <td>med</td>\n",
       "      <td>1 1/9 bushel crates</td>\n",
       "      <td>NaN</td>\n",
       "    </tr>\n",
       "    <tr>\n",
       "      <th>110</th>\n",
       "      <td>18.0</td>\n",
       "      <td>med</td>\n",
       "      <td>1 1/9 bushel crates</td>\n",
       "      <td>NaN</td>\n",
       "    </tr>\n",
       "  </tbody>\n",
       "</table>\n",
       "</div>"
      ],
      "text/plain": [
       "     High Price Item Size               Package Unit of Sale\n",
       "21          0.5       med          36 inch bins       PER LB\n",
       "22          0.5       med          36 inch bins       PER LB\n",
       "23          0.5       med          36 inch bins       PER LB\n",
       "25          0.5       med          36 inch bins       PER LB\n",
       "41         18.0       med  1 1/9 bushel cartons          NaN\n",
       "99         18.0       med   1 1/9 bushel crates          NaN\n",
       "108        18.0       med   1 1/9 bushel crates          NaN\n",
       "110        18.0       med   1 1/9 bushel crates          NaN"
      ]
     },
     "execution_count": 9,
     "metadata": {},
     "output_type": "execute_result"
    }
   ],
   "source": [
    "dataset[(dataset['Item Size'] =='med') & (dataset['High Price'] <= 50)].head(10)"
   ]
  },
  {
   "cell_type": "markdown",
   "metadata": {},
   "source": [
    "##### Comentario Juandieguístico\n",
    "Es porque los precios están dados en lb. Podemos estandarizarlos a BINS"
   ]
  },
  {
   "cell_type": "markdown",
   "metadata": {},
   "source": [
    "## Conversión numérica\n",
    "Ahora simplemente se transformarán las categorías a números, si son 10 categorías serán números comprendidos entre 0 y 9 o 1 y 10."
   ]
  },
  {
   "cell_type": "code",
   "execution_count": 10,
   "metadata": {},
   "outputs": [],
   "source": [
    "# Primero se convierte la categoría en tipo Categorical\n",
    "dataset['Item Size'] = pd.Categorical(dataset['Item Size'])\n",
    "dataset_number = dataset"
   ]
  },
  {
   "cell_type": "markdown",
   "metadata": {},
   "source": [
    "Lo que se hará es respetar la siguiente lista\n",
    "1. sml\n",
    "2. med\n",
    "3. med-lge\n",
    "4. lge\n",
    "5. xlge\n",
    "6. exjbo"
   ]
  },
  {
   "cell_type": "code",
   "execution_count": 11,
   "metadata": {},
   "outputs": [],
   "source": [
    "# Codificando el dataset\n",
    "dataset_number['NumberSize'] = 0"
   ]
  },
  {
   "cell_type": "code",
   "execution_count": 12,
   "metadata": {},
   "outputs": [],
   "source": [
    "dataset.loc[(dataset['Item Size'] =='sml'), 'NumberSize'] = 0\n",
    "dataset.loc[(dataset['Item Size'] =='med'), 'NumberSize'] = 1\n",
    "dataset.loc[(dataset['Item Size'] =='med-lge'), 'NumberSize'] = 2\n",
    "dataset.loc[(dataset['Item Size'] =='lge'), 'NumberSize'] = 3\n",
    "dataset.loc[(dataset['Item Size'] =='xlge'), 'NumberSize'] = 4\n",
    "dataset.loc[(dataset['Item Size'] =='exjbo'), 'NumberSize'] = 5"
   ]
  },
  {
   "cell_type": "code",
   "execution_count": 13,
   "metadata": {},
   "outputs": [
    {
     "data": {
      "text/html": [
       "<div>\n",
       "<style scoped>\n",
       "    .dataframe tbody tr th:only-of-type {\n",
       "        vertical-align: middle;\n",
       "    }\n",
       "\n",
       "    .dataframe tbody tr th {\n",
       "        vertical-align: top;\n",
       "    }\n",
       "\n",
       "    .dataframe thead th {\n",
       "        text-align: right;\n",
       "    }\n",
       "</style>\n",
       "<table border=\"1\" class=\"dataframe\">\n",
       "  <thead>\n",
       "    <tr style=\"text-align: right;\">\n",
       "      <th></th>\n",
       "      <th>High Price</th>\n",
       "      <th>Item Size</th>\n",
       "      <th>Package</th>\n",
       "      <th>Unit of Sale</th>\n",
       "      <th>NumberSize</th>\n",
       "    </tr>\n",
       "  </thead>\n",
       "  <tbody>\n",
       "    <tr>\n",
       "      <th>0</th>\n",
       "      <td>130</td>\n",
       "      <td>lge</td>\n",
       "      <td>24 inch bins</td>\n",
       "      <td>PER BIN</td>\n",
       "      <td>3</td>\n",
       "    </tr>\n",
       "    <tr>\n",
       "      <th>1</th>\n",
       "      <td>130</td>\n",
       "      <td>med</td>\n",
       "      <td>24 inch bins</td>\n",
       "      <td>PER BIN</td>\n",
       "      <td>1</td>\n",
       "    </tr>\n",
       "    <tr>\n",
       "      <th>2</th>\n",
       "      <td>130</td>\n",
       "      <td>lge</td>\n",
       "      <td>24 inch bins</td>\n",
       "      <td>PER BIN</td>\n",
       "      <td>3</td>\n",
       "    </tr>\n",
       "    <tr>\n",
       "      <th>3</th>\n",
       "      <td>130</td>\n",
       "      <td>med</td>\n",
       "      <td>24 inch bins</td>\n",
       "      <td>PER BIN</td>\n",
       "      <td>1</td>\n",
       "    </tr>\n",
       "    <tr>\n",
       "      <th>4</th>\n",
       "      <td>130</td>\n",
       "      <td>lge</td>\n",
       "      <td>24 inch bins</td>\n",
       "      <td>PER BIN</td>\n",
       "      <td>3</td>\n",
       "    </tr>\n",
       "    <tr>\n",
       "      <th>...</th>\n",
       "      <td>...</td>\n",
       "      <td>...</td>\n",
       "      <td>...</td>\n",
       "      <td>...</td>\n",
       "      <td>...</td>\n",
       "    </tr>\n",
       "    <tr>\n",
       "      <th>107</th>\n",
       "      <td>32</td>\n",
       "      <td>sml</td>\n",
       "      <td>bushel cartons</td>\n",
       "      <td>NaN</td>\n",
       "      <td>0</td>\n",
       "    </tr>\n",
       "    <tr>\n",
       "      <th>108</th>\n",
       "      <td>18</td>\n",
       "      <td>med</td>\n",
       "      <td>1 1/9 bushel crates</td>\n",
       "      <td>NaN</td>\n",
       "      <td>1</td>\n",
       "    </tr>\n",
       "    <tr>\n",
       "      <th>109</th>\n",
       "      <td>18</td>\n",
       "      <td>sml</td>\n",
       "      <td>1 1/9 bushel crates</td>\n",
       "      <td>NaN</td>\n",
       "      <td>0</td>\n",
       "    </tr>\n",
       "    <tr>\n",
       "      <th>110</th>\n",
       "      <td>18</td>\n",
       "      <td>med</td>\n",
       "      <td>1 1/9 bushel crates</td>\n",
       "      <td>NaN</td>\n",
       "      <td>1</td>\n",
       "    </tr>\n",
       "    <tr>\n",
       "      <th>111</th>\n",
       "      <td>18</td>\n",
       "      <td>sml</td>\n",
       "      <td>1 1/9 bushel crates</td>\n",
       "      <td>NaN</td>\n",
       "      <td>0</td>\n",
       "    </tr>\n",
       "  </tbody>\n",
       "</table>\n",
       "<p>137 rows × 5 columns</p>\n",
       "</div>"
      ],
      "text/plain": [
       "     High Price Item Size              Package Unit of Sale  NumberSize\n",
       "0           130       lge         24 inch bins      PER BIN           3\n",
       "1           130       med         24 inch bins      PER BIN           1\n",
       "2           130       lge         24 inch bins      PER BIN           3\n",
       "3           130       med         24 inch bins      PER BIN           1\n",
       "4           130       lge         24 inch bins      PER BIN           3\n",
       "..          ...       ...                  ...          ...         ...\n",
       "107          32       sml       bushel cartons          NaN           0\n",
       "108          18       med  1 1/9 bushel crates          NaN           1\n",
       "109          18       sml  1 1/9 bushel crates          NaN           0\n",
       "110          18       med  1 1/9 bushel crates          NaN           1\n",
       "111          18       sml  1 1/9 bushel crates          NaN           0\n",
       "\n",
       "[137 rows x 5 columns]"
      ]
     },
     "execution_count": 13,
     "metadata": {},
     "output_type": "execute_result"
    }
   ],
   "source": [
    "# Eliminando la columna innecesaria\n",
    "# dataset_number.drop('Item Size',axis = 1, inplace=True)\n",
    "dataset['NumberSize'] = dataset['NumberSize'].astype('int64')\n",
    "dataset['High Price'] = dataset['High Price'].astype('int64')\n",
    "dataset_number"
   ]
  },
  {
   "cell_type": "code",
   "execution_count": 14,
   "metadata": {},
   "outputs": [
    {
     "data": {
      "image/png": "[encoded data removed]",
      "text/plain": [
       "<Figure size 428.375x360 with 1 Axes>"
      ]
     },
     "metadata": {
      "needs_background": "light"
     },
     "output_type": "display_data"
    }
   ],
   "source": [
    "sns.lmplot( y=\"NumberSize\", x=\"High Price\",\n",
    "  data=dataset, \n",
    "  fit_reg=False, \n",
    "  hue='NumberSize', # color by cluster\n",
    "  legend=True,\n",
    "  scatter_kws={\"s\": 10}) # specify the point size\n",
    "plt.show()"
   ]
  },
  {
   "cell_type": "markdown",
   "metadata": {},
   "source": [
    "## Convirtiendo y estandarizando precios\n",
    "Como se nota, no todos los productos están bajo la misma medida, existen variaciones en Unit of Sale, por lo que los precios son rarísimos. Por lo que se investigó más a detalle el mercado de las calabazas y sus unidades de medida y venta.\n",
    "\n",
    "Aquí hay algunas [tablas de conversión](https://www.nass.usda.gov/Statistics_by_State/Delaware/Publications/Annual_Statistical_Bulletin/2009/Page29.pdf).\n",
    "[Información sobre calabazas](http://www.danschantz.com/fall/pumpkins/)\n",
    "[Tabla de conversión](https://books.google.com.gt/books?id=xk8qAAAAYAAJ&pg=PA76&lpg=PA76&dq=bushel+to+pounds+pumpkin&source=bl&ots=i1CjFx2JkU&sig=ACfU3U3vL3CO9jeFxPsDFCZePnqy_ycBrg&hl=es-419&sa=X&ved=2ahUKEwj4nefX99PnAhWOxVkKHeUgAeI4ChDoATAAegQIChAB#v=onepage&q=bushel%20to%20pounds%20pumpkin&f=false)\n",
    "\n",
    "Por el momento, lo importante es desaparecer la ambigüedad existente entre **bin** y **lbs** y la relación es de 1 *bin* = 1000 *lbs*\n",
    "\n",
    "Por el momento, lo importante es desaparecer la ambigüedad existente entre **bushel** y **lbs** y la relación es de 1 *bushel* = 25 *lbs*\n"
   ]
  },
  {
   "cell_type": "code",
   "execution_count": 15,
   "metadata": {},
   "outputs": [
    {
     "data": {
      "text/html": [
       "<div>\n",
       "<style scoped>\n",
       "    .dataframe tbody tr th:only-of-type {\n",
       "        vertical-align: middle;\n",
       "    }\n",
       "\n",
       "    .dataframe tbody tr th {\n",
       "        vertical-align: top;\n",
       "    }\n",
       "\n",
       "    .dataframe thead th {\n",
       "        text-align: right;\n",
       "    }\n",
       "</style>\n",
       "<table border=\"1\" class=\"dataframe\">\n",
       "  <thead>\n",
       "    <tr style=\"text-align: right;\">\n",
       "      <th></th>\n",
       "      <th>High Price</th>\n",
       "      <th>Item Size</th>\n",
       "      <th>Package</th>\n",
       "      <th>Unit of Sale</th>\n",
       "      <th>NumberSize</th>\n",
       "    </tr>\n",
       "  </thead>\n",
       "  <tbody>\n",
       "  </tbody>\n",
       "</table>\n",
       "</div>"
      ],
      "text/plain": [
       "Empty DataFrame\n",
       "Columns: [High Price, Item Size, Package, Unit of Sale, NumberSize]\n",
       "Index: []"
      ]
     },
     "execution_count": 15,
     "metadata": {},
     "output_type": "execute_result"
    }
   ],
   "source": [
    "# Valores por lb deben de multiplicarse por 1000\n",
    "# Obteniendo los valores\n",
    "dataset.loc[(dataset['Unit of Sale'] =='PER LB'), 'High Price'] *= 1000\n",
    "dataset.loc[(dataset['Unit of Sale'] =='PER LB'), 'Unit of Sale'] = 'PER BIN'\n",
    "dataset[(dataset['Unit of Sale'] =='PER LB')].head() # Ya no hay productos por libra"
   ]
  },
  {
   "cell_type": "code",
   "execution_count": 16,
   "metadata": {},
   "outputs": [
    {
     "data": {
      "text/plain": [
       "<seaborn.axisgrid.FacetGrid at 0x129aa1f0>"
      ]
     },
     "execution_count": 16,
     "metadata": {},
     "output_type": "execute_result"
    },
    {
     "data": {
      "image/png": "[encoded data removed]",
      "text/plain": [
       "<Figure size 360x360 with 1 Axes>"
      ]
     },
     "metadata": {
      "needs_background": "light"
     },
     "output_type": "display_data"
    }
   ],
   "source": [
    "# Factor Plot\n",
    "g = sns.factorplot(x='High Price', \n",
    "                   y='NumberSize', \n",
    "                   data=dataset, \n",
    "                   kind='swarm')\n",
    " \n",
    "# Rotación de la gráfica para fácil visualización\n",
    "g.set_xticklabels(rotation=0)"
   ]
  },
  {
   "cell_type": "code",
   "execution_count": 17,
   "metadata": {},
   "outputs": [
    {
     "data": {
      "text/html": [
       "<div>\n",
       "<style scoped>\n",
       "    .dataframe tbody tr th:only-of-type {\n",
       "        vertical-align: middle;\n",
       "    }\n",
       "\n",
       "    .dataframe tbody tr th {\n",
       "        vertical-align: top;\n",
       "    }\n",
       "\n",
       "    .dataframe thead th {\n",
       "        text-align: right;\n",
       "    }\n",
       "</style>\n",
       "<table border=\"1\" class=\"dataframe\">\n",
       "  <thead>\n",
       "    <tr style=\"text-align: right;\">\n",
       "      <th></th>\n",
       "      <th>High Price</th>\n",
       "      <th>Item Size</th>\n",
       "      <th>Package</th>\n",
       "      <th>Unit of Sale</th>\n",
       "      <th>NumberSize</th>\n",
       "    </tr>\n",
       "  </thead>\n",
       "  <tbody>\n",
       "  </tbody>\n",
       "</table>\n",
       "</div>"
      ],
      "text/plain": [
       "Empty DataFrame\n",
       "Columns: [High Price, Item Size, Package, Unit of Sale, NumberSize]\n",
       "Index: []"
      ]
     },
     "execution_count": 17,
     "metadata": {},
     "output_type": "execute_result"
    }
   ],
   "source": [
    "# Valores por 1 1/9 deben de multiplicarse por 25*10/9\n",
    "# Obteniendo los valores\n",
    "dataset.loc[(dataset['Package'] =='1 1/9 bushel cartons'), 'High Price'] *= (250/9)\n",
    "dataset.loc[(dataset['Package'] =='1 1/9 bushel cartons'), 'Package'] = '36 inch bins'\n",
    "dataset[(dataset['Package'] =='1 1/9 bushel cartons')].head()"
   ]
  },
  {
   "cell_type": "code",
   "execution_count": 18,
   "metadata": {},
   "outputs": [
    {
     "data": {
      "text/plain": [
       "<seaborn.axisgrid.FacetGrid at 0xca54f10>"
      ]
     },
     "execution_count": 18,
     "metadata": {},
     "output_type": "execute_result"
    },
    {
     "data": {
      "image/png": "[encoded data removed]",
      "text/plain": [
       "<Figure size 360x360 with 1 Axes>"
      ]
     },
     "metadata": {
      "needs_background": "light"
     },
     "output_type": "display_data"
    }
   ],
   "source": [
    "# Factor Plot\n",
    "g = sns.factorplot(x='High Price', \n",
    "                   y='NumberSize', \n",
    "                   data=dataset, \n",
    "                   kind='swarm')\n",
    " \n",
    "# Rotación de la gráfica para fácil visualización\n",
    "g.set_xticklabels(rotation=0)"
   ]
  },
  {
   "cell_type": "markdown",
   "metadata": {},
   "source": [
    "## Función de escalamiento\n",
    "Sea como sea la gráfica se ve feísima. Aplicaré una estandarización a los datos primero.\n",
    "\\begin{align}\n",
    "\\frac{max_{new}-min_{new}}{max_{old}-min_{old}}\\cdot (v-min_{old})+min_{new}\n",
    "\\end{align}"
   ]
  },
  {
   "cell_type": "code",
   "execution_count": 19,
   "metadata": {},
   "outputs": [],
   "source": [
    "# Función de escalamiento con base al modelo matemático\n",
    "def rescale(values, new_min = 0, new_max = 100):\n",
    "    output = []\n",
    "    old_min, old_max = min(values), max(values)\n",
    "\n",
    "    for v in values:\n",
    "        new_v = (new_max - new_min) / (old_max - old_min) * (v - old_min) + new_min\n",
    "        output.append(new_v)\n",
    "\n",
    "    return output"
   ]
  },
  {
   "cell_type": "code",
   "execution_count": 20,
   "metadata": {},
   "outputs": [
    {
     "data": {
      "text/html": [
       "<div>\n",
       "<style scoped>\n",
       "    .dataframe tbody tr th:only-of-type {\n",
       "        vertical-align: middle;\n",
       "    }\n",
       "\n",
       "    .dataframe tbody tr th {\n",
       "        vertical-align: top;\n",
       "    }\n",
       "\n",
       "    .dataframe thead th {\n",
       "        text-align: right;\n",
       "    }\n",
       "</style>\n",
       "<table border=\"1\" class=\"dataframe\">\n",
       "  <thead>\n",
       "    <tr style=\"text-align: right;\">\n",
       "      <th></th>\n",
       "      <th>High Price</th>\n",
       "      <th>Item Size</th>\n",
       "      <th>Package</th>\n",
       "      <th>Unit of Sale</th>\n",
       "      <th>NumberSize</th>\n",
       "      <th>escPrice</th>\n",
       "    </tr>\n",
       "  </thead>\n",
       "  <tbody>\n",
       "    <tr>\n",
       "      <th>0</th>\n",
       "      <td>130.0</td>\n",
       "      <td>lge</td>\n",
       "      <td>24 inch bins</td>\n",
       "      <td>PER BIN</td>\n",
       "      <td>3</td>\n",
       "      <td>0.26</td>\n",
       "    </tr>\n",
       "    <tr>\n",
       "      <th>1</th>\n",
       "      <td>130.0</td>\n",
       "      <td>med</td>\n",
       "      <td>24 inch bins</td>\n",
       "      <td>PER BIN</td>\n",
       "      <td>1</td>\n",
       "      <td>0.26</td>\n",
       "    </tr>\n",
       "    <tr>\n",
       "      <th>2</th>\n",
       "      <td>130.0</td>\n",
       "      <td>lge</td>\n",
       "      <td>24 inch bins</td>\n",
       "      <td>PER BIN</td>\n",
       "      <td>3</td>\n",
       "      <td>0.26</td>\n",
       "    </tr>\n",
       "    <tr>\n",
       "      <th>3</th>\n",
       "      <td>130.0</td>\n",
       "      <td>med</td>\n",
       "      <td>24 inch bins</td>\n",
       "      <td>PER BIN</td>\n",
       "      <td>1</td>\n",
       "      <td>0.26</td>\n",
       "    </tr>\n",
       "    <tr>\n",
       "      <th>4</th>\n",
       "      <td>130.0</td>\n",
       "      <td>lge</td>\n",
       "      <td>24 inch bins</td>\n",
       "      <td>PER BIN</td>\n",
       "      <td>3</td>\n",
       "      <td>0.26</td>\n",
       "    </tr>\n",
       "    <tr>\n",
       "      <th>5</th>\n",
       "      <td>130.0</td>\n",
       "      <td>med</td>\n",
       "      <td>24 inch bins</td>\n",
       "      <td>PER BIN</td>\n",
       "      <td>1</td>\n",
       "      <td>0.26</td>\n",
       "    </tr>\n",
       "    <tr>\n",
       "      <th>6</th>\n",
       "      <td>130.0</td>\n",
       "      <td>lge</td>\n",
       "      <td>24 inch bins</td>\n",
       "      <td>PER BIN</td>\n",
       "      <td>3</td>\n",
       "      <td>0.26</td>\n",
       "    </tr>\n",
       "    <tr>\n",
       "      <th>7</th>\n",
       "      <td>130.0</td>\n",
       "      <td>med</td>\n",
       "      <td>24 inch bins</td>\n",
       "      <td>PER BIN</td>\n",
       "      <td>1</td>\n",
       "      <td>0.26</td>\n",
       "    </tr>\n",
       "    <tr>\n",
       "      <th>8</th>\n",
       "      <td>130.0</td>\n",
       "      <td>lge</td>\n",
       "      <td>24 inch bins</td>\n",
       "      <td>PER BIN</td>\n",
       "      <td>3</td>\n",
       "      <td>0.26</td>\n",
       "    </tr>\n",
       "    <tr>\n",
       "      <th>9</th>\n",
       "      <td>130.0</td>\n",
       "      <td>med</td>\n",
       "      <td>24 inch bins</td>\n",
       "      <td>PER BIN</td>\n",
       "      <td>1</td>\n",
       "      <td>0.26</td>\n",
       "    </tr>\n",
       "  </tbody>\n",
       "</table>\n",
       "</div>"
      ],
      "text/plain": [
       "   High Price Item Size       Package Unit of Sale  NumberSize  escPrice\n",
       "0       130.0       lge  24 inch bins      PER BIN           3      0.26\n",
       "1       130.0       med  24 inch bins      PER BIN           1      0.26\n",
       "2       130.0       lge  24 inch bins      PER BIN           3      0.26\n",
       "3       130.0       med  24 inch bins      PER BIN           1      0.26\n",
       "4       130.0       lge  24 inch bins      PER BIN           3      0.26\n",
       "5       130.0       med  24 inch bins      PER BIN           1      0.26\n",
       "6       130.0       lge  24 inch bins      PER BIN           3      0.26\n",
       "7       130.0       med  24 inch bins      PER BIN           1      0.26\n",
       "8       130.0       lge  24 inch bins      PER BIN           3      0.26\n",
       "9       130.0       med  24 inch bins      PER BIN           1      0.26"
      ]
     },
     "execution_count": 20,
     "metadata": {},
     "output_type": "execute_result"
    }
   ],
   "source": [
    "dataset['escPrice'] = rescale(dataset.iloc[:,0], 0, 1)\n",
    "dataset['escPrice'] = dataset['escPrice'].astype('float')\n",
    "dataset.head(10)"
   ]
  },
  {
   "cell_type": "code",
   "execution_count": 21,
   "metadata": {},
   "outputs": [
    {
     "data": {
      "image/png": "[encoded data removed]",
      "text/plain": [
       "<Figure size 428.375x360 with 1 Axes>"
      ]
     },
     "metadata": {
      "needs_background": "light"
     },
     "output_type": "display_data"
    }
   ],
   "source": [
    "dataset['escPrice2'] = dataset['escPrice']**3 + dataset['escPrice']\n",
    "# Probando formas de ver la gráfica...\n",
    "# dataset['escPrice2'] = dataset['escPrice'].astype('float')\n",
    "# dataset['escPrice2'] = dataset['escPrice'].apply(lambda x: math.log(x))\n",
    "sns.lmplot( x=\"escPrice2\", y=\"NumberSize\",\n",
    "  data=dataset, \n",
    "  fit_reg=False, \n",
    "  hue='NumberSize', # color by cluster\n",
    "  legend=True,\n",
    "  scatter_kws={\"s\": 10}) # specify the point size\n",
    "plt.show()"
   ]
  },
  {
   "cell_type": "markdown",
   "metadata": {},
   "source": [
    "## Codificación numérica de categorías\n",
    "Para tratar las categorías se usarán dos tratamientos, luego se comparará entre ellos cuál es más útil. La primera será una conversión de categoría a números y la segunda será la reconocida \"one hot encoding\"."
   ]
  },
  {
   "cell_type": "markdown",
   "metadata": {},
   "source": [
    "### _One hot encoding_\n",
    "Este sistema consiste en convertir las posibles respuestas en columnas binarias, donde se tiene 1 o 0 si corresponde o no a dicha categoría."
   ]
  },
  {
   "cell_type": "code",
   "execution_count": 22,
   "metadata": {},
   "outputs": [
    {
     "data": {
      "text/html": [
       "<div>\n",
       "<style scoped>\n",
       "    .dataframe tbody tr th:only-of-type {\n",
       "        vertical-align: middle;\n",
       "    }\n",
       "\n",
       "    .dataframe tbody tr th {\n",
       "        vertical-align: top;\n",
       "    }\n",
       "\n",
       "    .dataframe thead th {\n",
       "        text-align: right;\n",
       "    }\n",
       "</style>\n",
       "<table border=\"1\" class=\"dataframe\">\n",
       "  <thead>\n",
       "    <tr style=\"text-align: right;\">\n",
       "      <th>Item Size</th>\n",
       "      <th>exjbo</th>\n",
       "      <th>lge</th>\n",
       "      <th>med</th>\n",
       "      <th>med-lge</th>\n",
       "      <th>sml</th>\n",
       "      <th>xlge</th>\n",
       "    </tr>\n",
       "  </thead>\n",
       "  <tbody>\n",
       "    <tr>\n",
       "      <th>0</th>\n",
       "      <td>0</td>\n",
       "      <td>1</td>\n",
       "      <td>0</td>\n",
       "      <td>0</td>\n",
       "      <td>0</td>\n",
       "      <td>0</td>\n",
       "    </tr>\n",
       "    <tr>\n",
       "      <th>1</th>\n",
       "      <td>0</td>\n",
       "      <td>0</td>\n",
       "      <td>1</td>\n",
       "      <td>0</td>\n",
       "      <td>0</td>\n",
       "      <td>0</td>\n",
       "    </tr>\n",
       "    <tr>\n",
       "      <th>2</th>\n",
       "      <td>0</td>\n",
       "      <td>1</td>\n",
       "      <td>0</td>\n",
       "      <td>0</td>\n",
       "      <td>0</td>\n",
       "      <td>0</td>\n",
       "    </tr>\n",
       "    <tr>\n",
       "      <th>3</th>\n",
       "      <td>0</td>\n",
       "      <td>0</td>\n",
       "      <td>1</td>\n",
       "      <td>0</td>\n",
       "      <td>0</td>\n",
       "      <td>0</td>\n",
       "    </tr>\n",
       "    <tr>\n",
       "      <th>4</th>\n",
       "      <td>0</td>\n",
       "      <td>1</td>\n",
       "      <td>0</td>\n",
       "      <td>0</td>\n",
       "      <td>0</td>\n",
       "      <td>0</td>\n",
       "    </tr>\n",
       "  </tbody>\n",
       "</table>\n",
       "</div>"
      ],
      "text/plain": [
       "Item Size  exjbo  lge  med  med-lge  sml  xlge\n",
       "0              0    1    0        0    0     0\n",
       "1              0    0    1        0    0     0\n",
       "2              0    1    0        0    0     0\n",
       "3              0    0    1        0    0     0\n",
       "4              0    1    0        0    0     0"
      ]
     },
     "execution_count": 22,
     "metadata": {},
     "output_type": "execute_result"
    }
   ],
   "source": [
    "one_hot = pd.get_dummies(dataset['Item Size'])\n",
    "one_hot.head()"
   ]
  },
  {
   "cell_type": "code",
   "execution_count": 23,
   "metadata": {},
   "outputs": [
    {
     "data": {
      "text/html": [
       "<div>\n",
       "<style scoped>\n",
       "    .dataframe tbody tr th:only-of-type {\n",
       "        vertical-align: middle;\n",
       "    }\n",
       "\n",
       "    .dataframe tbody tr th {\n",
       "        vertical-align: top;\n",
       "    }\n",
       "\n",
       "    .dataframe thead th {\n",
       "        text-align: right;\n",
       "    }\n",
       "</style>\n",
       "<table border=\"1\" class=\"dataframe\">\n",
       "  <thead>\n",
       "    <tr style=\"text-align: right;\">\n",
       "      <th></th>\n",
       "      <th>High Price</th>\n",
       "      <th>Package</th>\n",
       "      <th>Unit of Sale</th>\n",
       "      <th>NumberSize</th>\n",
       "      <th>escPrice</th>\n",
       "      <th>escPrice2</th>\n",
       "      <th>exjbo</th>\n",
       "      <th>lge</th>\n",
       "      <th>med</th>\n",
       "      <th>med-lge</th>\n",
       "      <th>sml</th>\n",
       "      <th>xlge</th>\n",
       "    </tr>\n",
       "  </thead>\n",
       "  <tbody>\n",
       "    <tr>\n",
       "      <th>0</th>\n",
       "      <td>130.0</td>\n",
       "      <td>24 inch bins</td>\n",
       "      <td>PER BIN</td>\n",
       "      <td>3</td>\n",
       "      <td>0.260</td>\n",
       "      <td>0.277576</td>\n",
       "      <td>0</td>\n",
       "      <td>1</td>\n",
       "      <td>0</td>\n",
       "      <td>0</td>\n",
       "      <td>0</td>\n",
       "      <td>0</td>\n",
       "    </tr>\n",
       "    <tr>\n",
       "      <th>0</th>\n",
       "      <td>130.0</td>\n",
       "      <td>24 inch bins</td>\n",
       "      <td>PER BIN</td>\n",
       "      <td>3</td>\n",
       "      <td>0.260</td>\n",
       "      <td>0.277576</td>\n",
       "      <td>0</td>\n",
       "      <td>0</td>\n",
       "      <td>0</td>\n",
       "      <td>0</td>\n",
       "      <td>0</td>\n",
       "      <td>1</td>\n",
       "    </tr>\n",
       "    <tr>\n",
       "      <th>0</th>\n",
       "      <td>170.0</td>\n",
       "      <td>36 inch bins</td>\n",
       "      <td>NaN</td>\n",
       "      <td>4</td>\n",
       "      <td>0.340</td>\n",
       "      <td>0.379304</td>\n",
       "      <td>0</td>\n",
       "      <td>1</td>\n",
       "      <td>0</td>\n",
       "      <td>0</td>\n",
       "      <td>0</td>\n",
       "      <td>0</td>\n",
       "    </tr>\n",
       "    <tr>\n",
       "      <th>0</th>\n",
       "      <td>170.0</td>\n",
       "      <td>36 inch bins</td>\n",
       "      <td>NaN</td>\n",
       "      <td>4</td>\n",
       "      <td>0.340</td>\n",
       "      <td>0.379304</td>\n",
       "      <td>0</td>\n",
       "      <td>0</td>\n",
       "      <td>0</td>\n",
       "      <td>0</td>\n",
       "      <td>0</td>\n",
       "      <td>1</td>\n",
       "    </tr>\n",
       "    <tr>\n",
       "      <th>1</th>\n",
       "      <td>130.0</td>\n",
       "      <td>24 inch bins</td>\n",
       "      <td>PER BIN</td>\n",
       "      <td>1</td>\n",
       "      <td>0.260</td>\n",
       "      <td>0.277576</td>\n",
       "      <td>0</td>\n",
       "      <td>0</td>\n",
       "      <td>1</td>\n",
       "      <td>0</td>\n",
       "      <td>0</td>\n",
       "      <td>0</td>\n",
       "    </tr>\n",
       "    <tr>\n",
       "      <th>...</th>\n",
       "      <td>...</td>\n",
       "      <td>...</td>\n",
       "      <td>...</td>\n",
       "      <td>...</td>\n",
       "      <td>...</td>\n",
       "      <td>...</td>\n",
       "      <td>...</td>\n",
       "      <td>...</td>\n",
       "      <td>...</td>\n",
       "      <td>...</td>\n",
       "      <td>...</td>\n",
       "      <td>...</td>\n",
       "    </tr>\n",
       "    <tr>\n",
       "      <th>107</th>\n",
       "      <td>32.0</td>\n",
       "      <td>bushel cartons</td>\n",
       "      <td>NaN</td>\n",
       "      <td>0</td>\n",
       "      <td>0.064</td>\n",
       "      <td>0.064262</td>\n",
       "      <td>0</td>\n",
       "      <td>0</td>\n",
       "      <td>0</td>\n",
       "      <td>0</td>\n",
       "      <td>1</td>\n",
       "      <td>0</td>\n",
       "    </tr>\n",
       "    <tr>\n",
       "      <th>108</th>\n",
       "      <td>18.0</td>\n",
       "      <td>1 1/9 bushel crates</td>\n",
       "      <td>NaN</td>\n",
       "      <td>1</td>\n",
       "      <td>0.036</td>\n",
       "      <td>0.036047</td>\n",
       "      <td>0</td>\n",
       "      <td>0</td>\n",
       "      <td>1</td>\n",
       "      <td>0</td>\n",
       "      <td>0</td>\n",
       "      <td>0</td>\n",
       "    </tr>\n",
       "    <tr>\n",
       "      <th>109</th>\n",
       "      <td>18.0</td>\n",
       "      <td>1 1/9 bushel crates</td>\n",
       "      <td>NaN</td>\n",
       "      <td>0</td>\n",
       "      <td>0.036</td>\n",
       "      <td>0.036047</td>\n",
       "      <td>0</td>\n",
       "      <td>0</td>\n",
       "      <td>0</td>\n",
       "      <td>0</td>\n",
       "      <td>1</td>\n",
       "      <td>0</td>\n",
       "    </tr>\n",
       "    <tr>\n",
       "      <th>110</th>\n",
       "      <td>18.0</td>\n",
       "      <td>1 1/9 bushel crates</td>\n",
       "      <td>NaN</td>\n",
       "      <td>1</td>\n",
       "      <td>0.036</td>\n",
       "      <td>0.036047</td>\n",
       "      <td>0</td>\n",
       "      <td>0</td>\n",
       "      <td>1</td>\n",
       "      <td>0</td>\n",
       "      <td>0</td>\n",
       "      <td>0</td>\n",
       "    </tr>\n",
       "    <tr>\n",
       "      <th>111</th>\n",
       "      <td>18.0</td>\n",
       "      <td>1 1/9 bushel crates</td>\n",
       "      <td>NaN</td>\n",
       "      <td>0</td>\n",
       "      <td>0.036</td>\n",
       "      <td>0.036047</td>\n",
       "      <td>0</td>\n",
       "      <td>0</td>\n",
       "      <td>0</td>\n",
       "      <td>0</td>\n",
       "      <td>1</td>\n",
       "      <td>0</td>\n",
       "    </tr>\n",
       "  </tbody>\n",
       "</table>\n",
       "<p>229 rows × 12 columns</p>\n",
       "</div>"
      ],
      "text/plain": [
       "     High Price              Package Unit of Sale  NumberSize  escPrice  \\\n",
       "0         130.0         24 inch bins      PER BIN           3     0.260   \n",
       "0         130.0         24 inch bins      PER BIN           3     0.260   \n",
       "0         170.0         36 inch bins          NaN           4     0.340   \n",
       "0         170.0         36 inch bins          NaN           4     0.340   \n",
       "1         130.0         24 inch bins      PER BIN           1     0.260   \n",
       "..          ...                  ...          ...         ...       ...   \n",
       "107        32.0       bushel cartons          NaN           0     0.064   \n",
       "108        18.0  1 1/9 bushel crates          NaN           1     0.036   \n",
       "109        18.0  1 1/9 bushel crates          NaN           0     0.036   \n",
       "110        18.0  1 1/9 bushel crates          NaN           1     0.036   \n",
       "111        18.0  1 1/9 bushel crates          NaN           0     0.036   \n",
       "\n",
       "     escPrice2  exjbo  lge  med  med-lge  sml  xlge  \n",
       "0     0.277576      0    1    0        0    0     0  \n",
       "0     0.277576      0    0    0        0    0     1  \n",
       "0     0.379304      0    1    0        0    0     0  \n",
       "0     0.379304      0    0    0        0    0     1  \n",
       "1     0.277576      0    0    1        0    0     0  \n",
       "..         ...    ...  ...  ...      ...  ...   ...  \n",
       "107   0.064262      0    0    0        0    1     0  \n",
       "108   0.036047      0    0    1        0    0     0  \n",
       "109   0.036047      0    0    0        0    1     0  \n",
       "110   0.036047      0    0    1        0    0     0  \n",
       "111   0.036047      0    0    0        0    1     0  \n",
       "\n",
       "[229 rows x 12 columns]"
      ]
     },
     "execution_count": 23,
     "metadata": {},
     "output_type": "execute_result"
    }
   ],
   "source": [
    "# Ahora se unirá al dataset \n",
    "dataset_one = dataset.drop('Item Size',axis = 1)\n",
    "dataset_one = dataset_one.join(one_hot)\n",
    "dataset_one"
   ]
  },
  {
   "cell_type": "markdown",
   "metadata": {},
   "source": [
    "#### Comentario Juandieguístico...\n",
    "El one Hot encoding no servirá de nada, puesto que deseamos predecir una variable, no un conjunto de ellas. \n",
    "Se hizo como ejercicio de estandarización "
   ]
  },
  {
   "cell_type": "markdown",
   "metadata": {},
   "source": [
    "## Algoritmo de regresión lineal\n",
    "Ahora se presentará el algoritmo de regresión lineal realizado en clase. Su implementación es matricial."
   ]
  },
  {
   "cell_type": "markdown",
   "metadata": {},
   "source": [
    "#### Función de regresión\n",
    "Es la función que determina el valor aproximado a partir de las θ."
   ]
  },
  {
   "cell_type": "code",
   "execution_count": 24,
   "metadata": {},
   "outputs": [],
   "source": [
    "def funcion(tetas, x):\n",
    "    \"\"\"Realiza la regresión lineal\n",
    "        multiplicación matricial de x por teta\n",
    "    \"\"\"\n",
    "    return np.dot(x, tetas)"
   ]
  },
  {
   "cell_type": "markdown",
   "metadata": {},
   "source": [
    "#### Función de costo\n",
    "Es la función que determina que tan certero es nuestro modelo con sus respectivas θ."
   ]
  },
  {
   "cell_type": "code",
   "execution_count": 25,
   "metadata": {},
   "outputs": [],
   "source": [
    "def funcion_costo(tetas, x, y):\n",
    "    \"\"\"Realiza la función de costo\n",
    "        para cualquier parámetro teta\n",
    "    \"\"\"\n",
    "    return (np.sum(np.dot(x, tetas) - y) ** 2) / 2*  len(y)"
   ]
  },
  {
   "cell_type": "markdown",
   "metadata": {},
   "source": [
    "#### Derivada de la función de costo\n",
    "Nos retorna el vector gradiente que contiene las derivadas parciales de la función de costo con respecto a cada θ."
   ]
  },
  {
   "cell_type": "code",
   "execution_count": 26,
   "metadata": {},
   "outputs": [],
   "source": [
    "def derivada_teta_1(tetas, x, y):\n",
    "    \"\"\"Realiza la derivada de la función de costo\n",
    "        para cualquier parámetro teta\n",
    "    \"\"\"\n",
    "    return np.dot(x.T, np.dot(x, tetas) - y) / len(y)"
   ]
  },
  {
   "cell_type": "markdown",
   "metadata": {},
   "source": [
    "#### Impresión de resultados\n",
    "Realizamos una función para la impresión de resultados."
   ]
  },
  {
   "cell_type": "code",
   "execution_count": 27,
   "metadata": {},
   "outputs": [],
   "source": [
    "def imprimir_resultados(teta, x, y):\n",
    "    \"\"\"Sirve para imprimir la lista de tetas y el costo según\n",
    "        estos usando como base la función de costo.\n",
    "    \"\"\"\n",
    "    for i in range(len(teta)):\n",
    "        print(\"\\u03B8{sub} = {value}\".format(sub = i + 1, value = teta[i]))\n",
    "    print(\"El costo es: {}\".format(funcion_costo(teta_gradiente, x, y)))"
   ]
  },
  {
   "cell_type": "markdown",
   "metadata": {},
   "source": [
    "#### Descenso del gradiente\n",
    "Implementación en Python del descenso del gradiente."
   ]
  },
  {
   "cell_type": "code",
   "execution_count": 28,
   "metadata": {},
   "outputs": [],
   "source": [
    "def descenso_gradiente(tetas, x, y, razon_de_aprendizaje = 0.001, numero_de_iteraciones_maximo = 10000, tolerancia = 0.01, razon_decrecimiento=0.5):\n",
    "    \"\"\"Sirve para implementar el descenso del gradiente\n",
    "        y obtener las tetas que mejor describen la función.\n",
    "    \"\"\"\n",
    "    # variables de flujo del gradiente\n",
    "    teta_gradiente = tetas.copy()\n",
    "    converger = True\n",
    "    # Ciclo del descenso\n",
    "    while (converger):\n",
    "        # hacer derivada de funcion\n",
    "        # moverse en el espacio\n",
    "        numero_de_iteraciones_maximo -= 1\n",
    "        teta_temporal = teta_gradiente.copy()\n",
    "        #print(funcion_costo(teta_temporal, x, y))\n",
    "        derivadas = derivada_teta_1(teta_temporal, x, y)\n",
    "        teta_gradiente -= razon_de_aprendizaje * derivadas\n",
    "        if (np.linalg.norm(derivadas) < tolerancia) or (numero_de_iteraciones_maximo == 0):\n",
    "            converger = False\n",
    "    return teta_gradiente"
   ]
  },
  {
   "cell_type": "markdown",
   "metadata": {},
   "source": [
    "## Creando el numpy array y probando el Descenso del Gradiente a secas\n",
    "Usando como base el dataset transformado de pandas, crearé el numpy array."
   ]
  },
  {
   "cell_type": "code",
   "execution_count": 29,
   "metadata": {},
   "outputs": [],
   "source": [
    "x = dataset['escPrice'].tolist()\n",
    "y = dataset['NumberSize'].tolist()"
   ]
  },
  {
   "cell_type": "code",
   "execution_count": 30,
   "metadata": {},
   "outputs": [
    {
     "data": {
      "text/plain": [
       "<matplotlib.collections.PathCollection at 0xcd1a0f0>"
      ]
     },
     "execution_count": 30,
     "metadata": {},
     "output_type": "execute_result"
    },
    {
     "data": {
      "image/png": "[encoded data removed]",
      "text/plain": [
       "<Figure size 432x288 with 1 Axes>"
      ]
     },
     "metadata": {
      "needs_background": "light"
     },
     "output_type": "display_data"
    }
   ],
   "source": [
    "# Graficando nube de puntos\n",
    "plt.scatter(x, y)"
   ]
  },
  {
   "cell_type": "code",
   "execution_count": 31,
   "metadata": {},
   "outputs": [],
   "source": [
    "x = [[1 for i in range(len(x))], x]\n",
    "x = np.array(x, dtype=np.float64)\n",
    "x = x.T\n",
    "y = np.array(y)\n",
    "y = y.T"
   ]
  },
  {
   "cell_type": "code",
   "execution_count": 32,
   "metadata": {},
   "outputs": [
    {
     "data": {
      "text/plain": [
       "(2,)"
      ]
     },
     "execution_count": 32,
     "metadata": {},
     "output_type": "execute_result"
    }
   ],
   "source": [
    "# Vector de tetas\n",
    "tetas = [0 for i in range(len(x.T))] # n elementos ya que tenenmos n variables\n",
    "tetas = np.array(tetas, dtype=np.float64)\n",
    "tetas = tetas.T\n",
    "tetas.shape"
   ]
  },
  {
   "cell_type": "code",
   "execution_count": 33,
   "metadata": {},
   "outputs": [
    {
     "data": {
      "text/plain": [
       "329.9012425395836"
      ]
     },
     "execution_count": 33,
     "metadata": {},
     "output_type": "execute_result"
    }
   ],
   "source": [
    "resultado = descenso_gradiente(tetas, x, y, razon_de_aprendizaje = 0.00001, numero_de_iteraciones_maximo=1000000)\n",
    "funcion_costo(resultado, x, y)"
   ]
  },
  {
   "cell_type": "code",
   "execution_count": 34,
   "metadata": {},
   "outputs": [
    {
     "data": {
      "text/plain": [
       "array([1.71220337, 1.22987267])"
      ]
     },
     "execution_count": 34,
     "metadata": {},
     "output_type": "execute_result"
    }
   ],
   "source": [
    "resultado # para ver las tetas"
   ]
  },
  {
   "cell_type": "code",
   "execution_count": 35,
   "metadata": {},
   "outputs": [
    {
     "data": {
      "text/plain": [
       "[<matplotlib.lines.Line2D at 0xcd47c90>]"
      ]
     },
     "execution_count": 35,
     "metadata": {},
     "output_type": "execute_result"
    },
    {
     "data": {
      "image/png": "[encoded data removed]",
      "text/plain": [
       "<Figure size 432x288 with 1 Axes>"
      ]
     },
     "metadata": {
      "needs_background": "light"
     },
     "output_type": "display_data"
    }
   ],
   "source": [
    "plt.title(\"Gráfica de regresión de grado 1 a secas\")\n",
    "plt.scatter(x.T[1], y)\n",
    "plt.plot(x.T[1], np.dot(x, resultado), color='green')"
   ]
  },
  {
   "cell_type": "markdown",
   "metadata": {},
   "source": [
    "## Cross-Validation\n",
    "Consiste en hacer un Split 80-10-10 donde se tenga una validación doble de la eficacia del modelo."
   ]
  },
  {
   "cell_type": "code",
   "execution_count": 36,
   "metadata": {},
   "outputs": [],
   "source": [
    "# Haciendo el splitting entre training set y test set\n",
    "train, test = train_test_split(dataset, test_size=0.20) # Usé la librería de sklearn para hacerlo de manera más simple\n",
    "test, cv = train_test_split(test, test_size=0.50) # Se parte entre CV y test (50 y 50 del 20%)"
   ]
  },
  {
   "cell_type": "code",
   "execution_count": 37,
   "metadata": {},
   "outputs": [],
   "source": [
    "# El Cross-Validation se ejecutará por grados \n",
    "degree = 6 # Número de veces que se ejecuta el CV.\n",
    "# Haciendo el array de numpy\n",
    "x = dataset['escPrice'].tolist()\n",
    "y = dataset['NumberSize'].tolist()"
   ]
  },
  {
   "cell_type": "code",
   "execution_count": 38,
   "metadata": {},
   "outputs": [],
   "source": [
    "# Construcción de polinomio\n",
    "def constructor_polinomio(x, grado):\n",
    "    \"\"\"Construye columnas en un arreglo respetando el parámetro\n",
    "        inicial y el grado enviado.\n",
    "        x, x^2, x^3, x^n\n",
    "    \"\"\"\n",
    "    x_nuevo = [[1 for i in range(len(x))]]\n",
    "    for i in range(1, grado + 1): # Se le suma 1 porque Python excluye el último número\n",
    "        x_nuevo.append([j**i for j in x])\n",
    "    return x_nuevo "
   ]
  },
  {
   "cell_type": "code",
   "execution_count": 39,
   "metadata": {},
   "outputs": [],
   "source": [
    "# Medir cuáles valores efectivamente fueron predichos\n",
    "def precision_del_dataset(tetas, x, y):\n",
    "    \"\"\"Mide mediante aproximación si realmente predijo el \n",
    "        valor que era. \n",
    "    \"\"\"\n",
    "    y_pred = np.dot(x, tetas)\n",
    "    contador = 0\n",
    "    for i in range(len(y_pred)):\n",
    "        if(round(y_pred[i]) == y[i]):\n",
    "            contador += 1\n",
    "    return contador * 100 / len(y)"
   ]
  },
  {
   "cell_type": "code",
   "execution_count": 40,
   "metadata": {},
   "outputs": [],
   "source": [
    "# Selector de modelos\n",
    "def selector_de_modelos(resultados, flag_precision = False, flag_cv = False): # Selecciona el modelo con menor CV\n",
    "    \"\"\"Selecciona el mejor modelo de acuerdo a su testing cost.\n",
    "        Puede priorizar la precisión si se activa la flag, donde\n",
    "        dará prioridad al modelo con precisión más baja antes que el costo.\n",
    "    \"\"\"\n",
    "    indice = 2\n",
    "    if flag_precision:\n",
    "        indice = 3 # Si se prioriza la precisión\n",
    "    if flag_cv:\n",
    "        indice += 2 # Si se usa como base CV    \n",
    "    comodin = resultados[0]\n",
    "    for i in resultados:\n",
    "        if(i[indice] < comodin[indice]):\n",
    "            comodin[indice] = i[indice]\n",
    "    return comodin        "
   ]
  },
  {
   "cell_type": "code",
   "execution_count": 41,
   "metadata": {},
   "outputs": [],
   "source": [
    "# Mi implementación de CV\n",
    "def cross_validation_simple(train, test, cv, degree, razon_de_aprendizaje = 0.0001, numero_de_iteraciones_maximo=1000000):\n",
    "    \"\"\"Es una implementación simple de CV donde se almacenan los datos \n",
    "        en arreglos distintos y luego se aplcia iterativamente con un grado\n",
    "        mayor.\n",
    "    \"\"\"\n",
    "    partes = [train, test, cv]\n",
    "    resultados = []\n",
    "    for grado in range(1, degree + 1): # se le suma 1 porque Python no es inclusivo \n",
    "        resultado = []\n",
    "        resultados.append([])\n",
    "        for i in range(len(partes)):\n",
    "            x = partes[i]['escPrice'].tolist()\n",
    "            y = partes[i]['NumberSize'].tolist()\n",
    "            x = constructor_polinomio(x, grado)\n",
    "            x = np.array(x, dtype=np.float64)\n",
    "            x = x.T\n",
    "            y = np.array(y)\n",
    "            y = y.T\n",
    "            tetas = [0 for i in range(len(x.T))] # n elementos ya que tenenmos n variables\n",
    "            tetas = np.array(tetas, dtype=np.float64)\n",
    "            tetas = tetas.T\n",
    "            if (i == 0): # training\n",
    "                resultados[grado - 1].append(grado)\n",
    "                resultado = descenso_gradiente(tetas, x, y, razon_de_aprendizaje, numero_de_iteraciones_maximo)\n",
    "                resultados[grado - 1].append(resultado) # Guardamos tetas\n",
    "            elif (i == 1): # testing\n",
    "                resultados[grado - 1].append(funcion_costo(resultado, x, y)) \n",
    "                resultados[grado - 1].append(precision_del_dataset(resultado, x, y)) \n",
    "            else: # CV\n",
    "                resultados[grado - 1].append(funcion_costo(resultado, x, y))\n",
    "                resultados[grado - 1].append(precision_del_dataset(resultado, x, y))\n",
    "    return resultados"
   ]
  },
  {
   "cell_type": "code",
   "execution_count": 42,
   "metadata": {},
   "outputs": [
    {
     "data": {
      "text/plain": [
       "[[1,\n",
       "  array([1.2893746 , 2.71528654]),\n",
       "  0.07222581503504946,\n",
       "  21.428571428571427,\n",
       "  327.1405714306229,\n",
       "  28.571428571428573],\n",
       " [2,\n",
       "  array([ 1.23823696,  3.66714695, -1.95101552]),\n",
       "  0.15212913162546604,\n",
       "  14.285714285714286,\n",
       "  334.75115785831537,\n",
       "  28.571428571428573],\n",
       " [3,\n",
       "  array([ 1.16801201,  4.11877434, -1.25747047, -2.39692159]),\n",
       "  0.8259457075744543,\n",
       "  21.428571428571427,\n",
       "  322.73100500238337,\n",
       "  28.571428571428573],\n",
       " [4,\n",
       "  array([ 1.11732126,  4.27059928, -0.85614815, -1.90555851, -1.82858014]),\n",
       "  1.0302527937714347,\n",
       "  28.571428571428573,\n",
       "  308.37144583997053,\n",
       "  28.571428571428573],\n",
       " [5, array([ 1.09090487,  4.30166652, -0.6486295 , -1.62176879, -1.51184881,\n",
       "         -1.23538861]), 0.9365459519381067, 28.571428571428573, 298.9881776487558, 28.571428571428573],\n",
       " [6, array([ 1.07924812,  4.2924498 , -0.54550148, -1.4644385 , -1.32844323,\n",
       "         -1.03891442, -0.79635346]), 0.7922615284593724, 28.571428571428573, 294.25106164488807, 28.571428571428573]]"
      ]
     },
     "execution_count": 42,
     "metadata": {},
     "output_type": "execute_result"
    }
   ],
   "source": [
    "# Implementando CV\n",
    "modelos = cross_validation_simple(train, test, cv, degree)\n",
    "modelos"
   ]
  },
  {
   "cell_type": "code",
   "execution_count": 43,
   "metadata": {},
   "outputs": [
    {
     "data": {
      "text/plain": [
       "[1,\n",
       " array([1.2893746 , 2.71528654]),\n",
       " 0.07222581503504946,\n",
       " 21.428571428571427,\n",
       " 327.1405714306229,\n",
       " 28.571428571428573]"
      ]
     },
     "execution_count": 43,
     "metadata": {},
     "output_type": "execute_result"
    }
   ],
   "source": [
    "# Seleccionando el modelo ganador\n",
    "modelo_ganador = selector_de_modelos(modelos)\n",
    "modelo_ganador"
   ]
  },
  {
   "cell_type": "code",
   "execution_count": 234,
   "metadata": {},
   "outputs": [
    {
     "data": {
      "text/plain": [
       "[<matplotlib.lines.Line2D at 0x14d24730>]"
      ]
     },
     "execution_count": 234,
     "metadata": {},
     "output_type": "execute_result"
    },
    {
     "data": {
      "image/png": "[encoded data removed]",
      "text/plain": [
       "<Figure size 432x288 with 1 Axes>"
      ]
     },
     "metadata": {
      "needs_background": "light"
     },
     "output_type": "display_data"
    }
   ],
   "source": [
    "# Graficando nube de puntos y regresión\n",
    "x = dataset['escPrice'].tolist()\n",
    "y = dataset['NumberSize'].tolist()\n",
    "x = constructor_polinomio(x, modelo_ganador[0])\n",
    "x = np.array(x, dtype=np.float64)\n",
    "x = x.T\n",
    "y = np.array(y)\n",
    "y = y.T\n",
    "tetas = modelo_ganador[1]\n",
    "plt.title(\"Gráfica de regresión de grado {}\".format(modelo_ganador[0]))\n",
    "plt.scatter(x.T[1], y)\n",
    "plt.plot(x.T[1], np.dot(x, tetas), color='green')"
   ]
  },
  {
   "cell_type": "code",
   "execution_count": null,
   "metadata": {},
   "outputs": [],
   "source": []
  }
 ],
 "metadata": {
  "kernelspec": {
   "display_name": "Python 3",
   "language": "python",
   "name": "python3"
  },
  "language_info": {
   "codemirror_mode": {
    "name": "ipython",
    "version": 3
   },
   "file_extension": ".py",
   "mimetype": "text/x-python",
   "name": "python",
   "nbconvert_exporter": "python",
   "pygments_lexer": "ipython3",
   "version": "3.7.0"
  }
 },
 "nbformat": 4,
 "nbformat_minor": 4
}
